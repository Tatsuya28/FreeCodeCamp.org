{
  "nbformat": 4,
  "nbformat_minor": 0,
  "metadata": {
    "colab": {
      "provenance": [],
      "include_colab_link": true
    },
    "kernelspec": {
      "name": "python3",
      "display_name": "Python 3"
    },
    "language_info": {
      "name": "python"
    }
  },
  "cells": [
    {
      "cell_type": "markdown",
      "metadata": {
        "id": "view-in-github",
        "colab_type": "text"
      },
      "source": [
        "<a href=\"https://colab.research.google.com/github/Tatsuya28/FreeCodeCamp.org/blob/master/IT41_RSA.ipynb\" target=\"_parent\"><img src=\"https://colab.research.google.com/assets/colab-badge.svg\" alt=\"Open In Colab\"/></a>"
      ]
    },
    {
      "cell_type": "markdown",
      "source": [
        "# IT41 project: RSA Cryptosystem \n",
        "\n",
        "Authors: \n",
        "+ Hakan Eraslan\n",
        "+ Thomas Fridblatt\n",
        "+ Jérémie Kimenau\n",
        "+ Eliséo Vardanega"
      ],
      "metadata": {
        "id": "P8g3dK63iT0a"
      }
    },
    {
      "cell_type": "markdown",
      "source": [
        "## Context"
      ],
      "metadata": {
        "id": "ycAK3ZZSjSpA"
      }
    },
    {
      "cell_type": "markdown",
      "source": [
        "The RSA cryptography system was invented in 1977 by three mathematicians: Ronald Rivest, Adi Shamir and Leonard Adleman. This is an Asynchronous algorithm that we still use a lot in our current society because of its efficiency and its resistance against hacking (except quantum computing).\n",
        "These three mathematicians wanted to demonstrate that asynchronous cryptography couldn’t work, and they ended creating RSA, an algorithm based on that principle that is still largely used nowadays (we estimate that approximatively 300 millions programs use RSA algorithm).\n",
        "\n",
        "RSA is using the benefits of the modulus calculus and the difficulty to factorize large prime numbers to find the elements to easily decode the algorithm, which make it safe to use even in important places. It is also relatively easy to understand and to use because it uses simple arithmetic calculus.\n",
        "But we can find some disadvantages such that the large prime numbers to find (in principle more than 512 long)\n",
        "This algorithm consists of different elements: 2 very large prime numbers P and Q, their multiplication N, phi(N)=(P-1)(Q-1) , e such that e<phi(N) and such that e and phi(N) are coprime, and d such that we have e*d=1 mod(phi(N))\n",
        ".\n",
        "In RSA there are 2 different keys: one public and one private:\n",
        "The public one is made of N and e,\n",
        "The private one is made of P,Q,N,phi(N) and d.\n",
        "\n",
        "\n"
      ],
      "metadata": {
        "id": "I_DEMU6eHgw6"
      }
    },
    {
      "cell_type": "code",
      "execution_count": null,
      "metadata": {
        "id": "ku9tPQr9iPK2"
      },
      "outputs": [],
      "source": []
    }
  ]
}